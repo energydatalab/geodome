{
 "cells": [
  {
   "cell_type": "code",
   "execution_count": 1,
   "id": "involved-friendship",
   "metadata": {},
   "outputs": [],
   "source": [
    "%reload_ext autoreload\n",
    "%autoreload 2\n",
    "%matplotlib inline\n",
    "# Built-in\n",
    "import os\n",
    "import re\n",
    "\n",
    "# Libs\n",
    "import numpy as np\n",
    "from tqdm import tqdm\n",
    "import sys\n",
    "from natsort import natsorted"
   ]
  },
  {
   "cell_type": "code",
   "execution_count": 2,
   "id": "incorporate-personality",
   "metadata": {},
   "outputs": [],
   "source": [
    "# insert at 1, 0 is the script path (or '' in REPL)\n",
    "sys.path.insert(1, '/home/ss1072/geodome/mrs/')"
   ]
  },
  {
   "cell_type": "code",
   "execution_count": 3,
   "id": "phantom-provision",
   "metadata": {},
   "outputs": [],
   "source": [
    "from data import data_loader, data_utils\n",
    "from mrs_utils import misc_utils, process_block"
   ]
  },
  {
   "cell_type": "code",
   "execution_count": 4,
   "id": "hispanic-avatar",
   "metadata": {},
   "outputs": [],
   "source": [
    "# Own modules\n",
    "sys.path.insert(0, '../')\n",
    "from model_scripts.preprocess import (filter_data)"
   ]
  },
  {
   "cell_type": "code",
   "execution_count": 5,
   "id": "furnished-durham",
   "metadata": {},
   "outputs": [],
   "source": [
    "# Settings\n",
    "DS_NAME = 'Geodome'\n",
    "MEAN = (0.40994515, 0.38314009, 0.28864455)\n",
    "STD = (0.12889884, 0.10563929, 0.09726452)\n",
    "RGB_DIR = '/home/nas-mount/processed_data_feb04/'\n",
    "GT_DIR = '/home/nas-mount/feb04_fixed_rasters/'\n",
    "GEOS = ['barren', 'crops', 'developed', 'forest', 'grassland', 'open_water', 'pasture', 'scrub', 'wetlands']"
   ]
  },
  {
   "cell_type": "code",
   "execution_count": 5,
   "id": "described-teach",
   "metadata": {},
   "outputs": [],
   "source": [
    "def get_file_list(data_dir):\n",
    "    _, _, files = next(os.walk(data_dir, topdown=True))\n",
    "    for i, file_name in enumerate(files):\n",
    "        if file_name[-4:] != '.png':\n",
    "            files.pop(i)\n",
    "    return natsorted(files)"
   ]
  },
  {
   "cell_type": "code",
   "execution_count": 6,
   "id": "cultural-delivery",
   "metadata": {},
   "outputs": [],
   "source": [
    "def get_images(rgb_dir, gt_dir):\n",
    "    rgb_list = get_file_list(rgb_dir)\n",
    "    gt_list = get_file_list(gt_dir)\n",
    "    rgb_files, gt_files = [], []\n",
    "    for file_name in gt_list:\n",
    "        file_id = file_name[:-11]\n",
    "        if (file_id + '.png' in rgb_list) and (file_id + '_N.png' in rgb_list):\n",
    "            rgb_files.append(file_id + '.png')\n",
    "            gt_files.append(file_name)\n",
    "    return rgb_files, gt_files"
   ]
  },
  {
   "cell_type": "code",
   "execution_count": 7,
   "id": "informational-saskatchewan",
   "metadata": {},
   "outputs": [],
   "source": [
    "def patch_tile(rgb_file, gt_file, rgb_dir, gt_dir, patch_size=[500, 500], n_patches=2):\n",
    "    \"\"\"\n",
    "    Extract the given rgb and gt tiles into patches\n",
    "    :param rgb_file: path to the rgb file\n",
    "    :param gt_file: path to the gt file\n",
    "    :param patch_size: size of the patches, should be a tuple of (h, w)\n",
    "    :return: rgb and gt patches as well as coordinates\n",
    "    \"\"\"\n",
    "    rgb = misc_utils.load_file(os.path.join(rgb_dir, rgb_file))\n",
    "    gt = misc_utils.load_file(os.path.join(gt_dir, gt_file))\n",
    "    np.testing.assert_array_equal(rgb.shape[:2], gt.shape)\n",
    "    \n",
    "    # Making image at least the size of the patch_size\n",
    "    if gt.shape[0] < patch_size[0]:\n",
    "        gt = np.append(gt, np.zeros((patch_size[0] - gt.shape[0], gt.shape[1]), dtype='uint8'), axis=0)\n",
    "        rgb = np.append(rgb, np.zeros((patch_size[0] - rgb.shape[0], \n",
    "                                       rgb.shape[1], rgb.shape[2]), dtype='uint8'), axis=0)\n",
    "    if gt.shape[1] < patch_size[1]:\n",
    "        gt = np.append(gt, np.zeros((gt.shape[0], patch_size[1] - gt.shape[1]), dtype='uint8'), axis=1)\n",
    "        rgb = np.append(rgb, np.zeros((rgb.shape[0], patch_size[1] - rgb.shape[1], \n",
    "                                       rgb.shape[2]), dtype='uint8'), axis=1)\n",
    "    \n",
    "    y = [0, gt.shape[0] - patch_size[0], 0, gt.shape[0] - patch_size[0]]\n",
    "    x = [0, gt.shape[1] - patch_size[1], gt.shape[1] - patch_size[1], 0]\n",
    "    suf = ['NW', 'SE', 'NE', 'SW']\n",
    "    \n",
    "    for i in range(n_patches):\n",
    "        rgb_patch = data_utils.crop_image(rgb, y[i], x[i], patch_size[0], patch_size[1])\n",
    "        gt_patch = data_utils.crop_image(gt, y[i], x[i], patch_size[0], patch_size[1])\n",
    "\n",
    "        yield rgb_patch, gt_patch, suf[i]"
   ]
  },
  {
   "cell_type": "code",
   "execution_count": 8,
   "id": "prostate-external",
   "metadata": {},
   "outputs": [],
   "source": [
    "def patch_geodome(rgb_files, gt_files, rgb_dir, gt_dir, save_dir, patch_size=[500, 500], \n",
    "                  n_patches=2, valid_geo='barren'):\n",
    "    # create folders and files\n",
    "    patch_dir = os.path.join(save_dir, 'patches')\n",
    "    misc_utils.make_dir_if_not_exist(patch_dir)\n",
    "    record_file_train = open(os.path.join(save_dir, 'file_list_train.txt'), 'w+')\n",
    "    record_file_valid = open(os.path.join(save_dir, 'file_list_valid.txt'), 'w+')\n",
    "    files = zip(rgb_files, gt_files)\n",
    "    for x, y in files:\n",
    "        assert x[:-4] == y[:-11]\n",
    "        \n",
    "    for cnt, (img_file, lbl_file) in enumerate(tqdm(zip(rgb_files, gt_files))):\n",
    "        for rgb_patch, gt_patch, suf in patch_tile(img_file, lbl_file, rgb_dir, gt_dir, patch_size, n_patches):\n",
    "            img_patchname = img_file[:-4] + '_' + suf + '.jpg'\n",
    "            lbl_patchname = lbl_file[:-10] + suf + '_raster.png'\n",
    "            misc_utils.save_file(os.path.join(patch_dir, img_patchname), rgb_patch.astype(np.uint8))\n",
    "            misc_utils.save_file(os.path.join(patch_dir, lbl_patchname), gt_patch.astype(np.uint8))\n",
    "\n",
    "            if re.match(r'^(\\w+)_id', img_file).group(1) == valid_geo:\n",
    "                record_file_valid.write('{} {}\\n'.format(img_patchname, lbl_patchname))\n",
    "            else:\n",
    "                record_file_train.write('{} {}\\n'.format(img_patchname, lbl_patchname))\n",
    "    record_file_train.close()\n",
    "    record_file_valid.close()"
   ]
  },
  {
   "cell_type": "code",
   "execution_count": 50,
   "id": "spare-light",
   "metadata": {},
   "outputs": [],
   "source": [
    "def get_stats(img_dir):\n",
    "    from data import data_utils\n",
    "    rgb_imgs = [a[0] for a in data_utils.get_img_lbl(img_dir, '.jpg', 'raster.png')]\n",
    "    ds_mean, ds_std = data_utils.get_ds_stats(rgb_imgs)\n",
    "    return np.stack([ds_mean, ds_std], axis=0)"
   ]
  },
  {
   "cell_type": "code",
   "execution_count": 22,
   "id": "democratic-pressure",
   "metadata": {},
   "outputs": [],
   "source": [
    "from data import data_utils\n",
    "lbl_imgs = [a[0] for a in data_utils.get_img_lbl('data_test/patches', 'raster.png', '.jpg')]\n",
    "min_v = 255\n",
    "max_v = 0\n",
    "\n",
    "for lbl_dir in lbl_imgs:\n",
    "    lbl = misc_utils.load_file(lbl_dir)\n",
    "    min_v = np.min(lbl) if np.min(lbl) < min_v else min_v\n",
    "    max_v = np.max(lbl) if np.max(lbl) > max_v else max_v"
   ]
  },
  {
   "cell_type": "code",
   "execution_count": 145,
   "id": "eleven-secret",
   "metadata": {},
   "outputs": [
    {
     "name": "stderr",
     "output_type": "stream",
     "text": [
      "2775it [12:38,  3.66it/s]\n"
     ]
    }
   ],
   "source": [
    "if __name__ == '__main__':\n",
    "    ps = 512\n",
    "    valid_geo='barren'\n",
    "    save_dir = r'data_test'\n",
    "    misc_utils.make_dir_if_not_exist(save_dir)\n",
    "    rgb_files, gt_files = get_images(RGB_DIR, GT_DIR)\n",
    "    patch_geodome(rgb_files=rgb_files, \n",
    "                  gt_files=gt_files, \n",
    "                  rgb_dir=RGB_DIR, \n",
    "                  gt_dir=GT_DIR, \n",
    "                  save_dir=save_dir, \n",
    "                  patch_size=[ps, ps],\n",
    "                  n_patches=2,\n",
    "                  valid_geo=valid_geo)"
   ]
  }
 ],
 "metadata": {
  "kernelspec": {
   "display_name": "Python 3",
   "language": "python",
   "name": "python3"
  },
  "language_info": {
   "codemirror_mode": {
    "name": "ipython",
    "version": 3
   },
   "file_extension": ".py",
   "mimetype": "text/x-python",
   "name": "python",
   "nbconvert_exporter": "python",
   "pygments_lexer": "ipython3",
   "version": "3.7.7"
  }
 },
 "nbformat": 4,
 "nbformat_minor": 5
}
