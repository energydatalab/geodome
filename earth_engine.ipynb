{
 "cells": [
  {
   "cell_type": "markdown",
   "metadata": {},
   "source": [
    "# Earth Engine for gathering data\n",
    "\n",
    "Google Earth Engine is a powerful tool for geospatial data analysis. Here, we will discuss how to use its Python API for gathering data from Landsat, Sentinel, and NAIP imagery.\n",
    "\n",
    "To start off with, request access to Google Earth Engine at: [](https://earthengine.google.com/). This may take some time. Once approved, install the Python API and get credentials for using the API following [these instructions](https://developers.google.com/earth-engine/guides/python_install-conda#mac_6). Be sure to try out the test code they suggest to make sure Earth Engine is running successfully):"
   ]
  },
  {
   "cell_type": "code",
   "execution_count": 2,
   "metadata": {},
   "outputs": [
    {
     "name": "stdout",
     "output_type": "stream",
     "text": [
      "{'type': 'Image', 'bands': [{'id': 'elevation', 'data_type': {'type': 'PixelType', 'precision': 'int', 'min': -32768, 'max': 32767}, 'dimensions': [1296001, 417601], 'crs': 'EPSG:4326', 'crs_transform': [0.0002777777777777778, 0, -180.0001388888889, 0, -0.0002777777777777778, 60.00013888888889]}], 'id': 'USGS/SRTMGL1_003', 'version': 1624974026135861, 'properties': {'system:visualization_0_min': '0.0', 'type_name': 'Image', 'thumb': 'https://mw1.google.com/ges/dd/images/SRTM90_V4_thumb.png', 'description': '<p>The Shuttle Radar Topography Mission (SRTM, see <a href=\"https://onlinelibrary.wiley.com/doi/10.1029/2005RG000183/full\">Farr\\net al. 2007</a>)\\ndigital elevation data is an international research effort that\\nobtained digital elevation models on a near-global scale. This\\nSRTM V3 product (SRTM Plus) is provided by NASA JPL\\nat a resolution of 1 arc-second (approximately 30m).</p><p>This dataset has undergone a void-filling process using open-source data\\n(ASTER GDEM2, GMTED2010, and NED), as opposed to other versions that\\ncontain voids or have been void-filled with commercial sources.\\nFor more information on the different versions see the\\n<a href=\"https://lpdaac.usgs.gov/documents/13/SRTM_Quick_Guide.pdf\">SRTM Quick Guide</a>.</p><p>Documentation:</p><ul><li><p><a href=\"https://lpdaac.usgs.gov/documents/179/SRTM_User_Guide_V3.pdf\">User&#39;s Guide</a></p></li><li><p><a href=\"https://lpdaac.usgs.gov/documents/13/SRTM_Quick_Guide.pdf\">General Documentation</a></p></li><li><p><a href=\"https://doi.org/10.1029/2005RG000183\">Algorithm Theoretical Basis Document (ATBD)</a></p></li></ul><p><b>Bands</b><table class=\"eecat\"><tr><th scope=\"col\">Name</th><th scope=\"col\">Description</th></tr><tr><td>elevation</td><td><p>Elevation</p></td></tr></table><p><b>Terms of Use</b><br><p>Unless otherwise noted, images and video on JPL public web sites (public sites ending with a jpl.nasa.gov address) may be used for any purpose without prior permission. For more information and exceptions visit the <a href=\"https://www.jpl.nasa.gov/imagepolicy/\">JPL Image Use Policy site</a>.</p><p><b>Suggested citation(s)</b><ul><li><p>Farr, T.G., Rosen, P.A., Caro, E., Crippen, R., Duren, R., Hensley, S., Kobrick, M., Paller, M., Rodriguez, E., Roth, L., Seal, D., Shaffer, S., Shimada, J., Umland, J., Werner, M., Oskin, M., Burbank, D., and Alsdorf, D.E., 2007, The shuttle radar topography mission: Reviews of Geophysics, v. 45, no. 2, RG2004, at <a href=\"https://doi.org/10.1029/2005RG000183\">https://doi.org/10.1029/2005RG000183</a>.</p></li></ul><style>\\n  table.eecat {\\n  border: 1px solid black;\\n  border-collapse: collapse;\\n  font-size: 13px;\\n  }\\n  table.eecat td, tr, th {\\n  text-align: left; vertical-align: top;\\n  border: 1px solid gray; padding: 3px;\\n  }\\n  td.nobreak { white-space: nowrap; }\\n</style>', 'source_tags': ['nasa', 'usgs'], 'visualization_0_max': '6000.0', 'title': 'NASA SRTM Digital Elevation 30m', 'product_tags': ['srtm', 'elevation', 'topography', 'dem', 'geophysical'], 'provider': 'NASA / USGS / JPL-Caltech', 'visualization_0_min': '0.0', 'visualization_0_name': 'Elevation', 'date_range': [950227200000, 951177600000], 'system:visualization_0_gamma': '1.6', 'period': 0, 'system:visualization_0_bands': 'elevation', 'provider_url': 'https://cmr.earthdata.nasa.gov/search/concepts/C1000000240-LPDAAC_ECS.html', 'visualization_0_gamma': '1.6', 'sample': 'https://mw1.google.com/ges/dd/images/SRTM90_V4_sample.png', 'tags': ['nasa', 'usgs', 'srtm', 'elevation', 'topography', 'dem', 'geophysical'], 'system:visualization_0_max': '6000.0', 'system:visualization_0_name': 'Elevation', 'system:asset_size': 132792638252, 'visualization_0_bands': 'elevation'}}\n"
     ]
    }
   ],
   "source": [
    "import ee\n",
    "\n",
    "# Initialize the Earth Engine module.\n",
    "ee.Initialize()\n",
    "\n",
    "# Print metadata for a DEM dataset.\n",
    "print(ee.Image('USGS/SRTMGL1_003').getInfo())"
   ]
  },
  {
   "cell_type": "markdown",
   "metadata": {},
   "source": [
    "If the above code yields output, you'll know you're ready for to go!\n",
    "\n",
    "## Selecting imagery\n",
    "\n"
   ]
  },
  {
   "cell_type": "code",
   "execution_count": 109,
   "metadata": {},
   "outputs": [],
   "source": [
    "from osm_tools import _bbox_from_point, gdf_from_bbox\n",
    "def osm2gee_bbox(bbox):\n",
    "    \"\"\"\n",
    "    convert bbox from lat lon (OSM default) to lon lat (GEE default)\n",
    "    \"\"\"\n",
    "    return bbox[1], bbox[0], bbox[3], bbox[2]\n",
    "lat, log = 29.475722, -95.636167 # Coal 1, 1000\n",
    "#lat, log = 33.0606,\t-83.8075 # Coal 2, 1000\n",
    "# lat, log = 27.6058,\t-82.3456 # Oil 3, 750\n",
    "# lat, log = 43.4586,\t-76.5319 # Oil 4, 750\n",
    "# lat, log = 26.6986,\t-80.3747 # Gas 5, 1250\n",
    "distance = 500\n",
    "bbox = _bbox_from_point((lat, log), distance)\n",
    "bbox = osm2gee_bbox(bbox)"
   ]
  },
  {
   "cell_type": "code",
   "execution_count": 128,
   "metadata": {},
   "outputs": [],
   "source": [
    "from geetools import batch\n",
    "\n",
    "def download_NAIP_toLocal(bbox, name, scale=1):\n",
    "    \"\"\"\n",
    "    downloads NAIP imagery from the specified bounding box and saves it as `name`\n",
    "    \"\"\"\n",
    "    AOI = ee.Geometry.Rectangle(list(bbox), \"EPSG:4326\", False)\n",
    "\n",
    "    collection = (\n",
    "        ee.ImageCollection(\"USDA/NAIP/DOQQ\")\n",
    "        .filterDate(\"2010-01-01\", \"2021-09-19\")\n",
    "        .filterBounds(AOI)\n",
    "        .select(['R', 'G', 'B'])\n",
    "    )\n",
    "\n",
    "    image = ee.Image(collection.mosaic()).clip(AOI)\n",
    "    batch.image.toLocal(image, name, scale=scale, region=AOI)\n",
    "\n",
    "name = 'naipsample'\n",
    "download_NAIP_toLocal(bbox, name, scale=1)"
   ]
  },
  {
   "cell_type": "code",
   "execution_count": 110,
   "metadata": {},
   "outputs": [],
   "source": [
    "def download_Landsat8_toLocal(bbox, name, scale=1):\n",
    "    \"\"\"\n",
    "    downloads Landsat 8 imagery from the specified bounding box and saves it as `name`\n",
    "    \"\"\"\n",
    "    AOI = ee.Geometry.Rectangle(list(bbox), \"EPSG:4326\", False)\n",
    "\n",
    "    collection = (\n",
    "        ee.ImageCollection(\"LANDSAT/LC08/C01/T1\")\n",
    "        .filterDate(\"2010-01-01\", \"2021-09-19\")\n",
    "        .filterBounds(AOI)\n",
    "        .select(['B4', 'B3', 'B2'])\n",
    "    )\n",
    "\n",
    "    image = ee.Image(collection.mosaic()).clip(AOI)\n",
    "    batch.image.toLocal(image, name, scale=scale, region=AOI)\n",
    "\n",
    "name = 'Landsat8sample'\n",
    "download_Landsat8_toLocal(bbox, name, scale=1)"
   ]
  },
  {
   "cell_type": "code",
   "execution_count": 124,
   "metadata": {},
   "outputs": [],
   "source": [
    "def download_sentinel2_toLocal(bbox, name, scale=1):\n",
    "    \"\"\"\n",
    "    downloads Sentinel 2 imagery from the specified bounding box and saves it as `name`\n",
    "    \"\"\"\n",
    "    AOI = ee.Geometry.Rectangle(list(bbox), \"EPSG:4326\", False)\n",
    "\n",
    "    collection = (\n",
    "        ee.ImageCollection(\"COPERNICUS/S2\")\n",
    "        .filterDate(\"2010-01-01\", \"2021-09-19\")\n",
    "        .filterBounds(AOI)\n",
    "        .select(['B4', 'B3', 'B2']) \n",
    "    )\n",
    "    image = ee.Image(collection.mosaic()).clip(AOI)\n",
    "    batch.image.toLocal(image, name, scale=scale, region=AOI)\n",
    "name = 'S2sample'\n",
    "download_sentinel2_toLocal(bbox, name, scale=1)\n",
    "# Unzip the files\n",
    "import zipfile\n",
    "path_to_zip_file = 'S2sample.zip'\n",
    "directory_to_extract_to = 'S2sample'\n",
    "with zipfile.ZipFile(path_to_zip_file, 'r') as zip_ref:\n",
    "    zip_ref.extractall(directory_to_extract_to)"
   ]
  },
  {
   "cell_type": "code",
   "execution_count": 129,
   "metadata": {},
   "outputs": [],
   "source": [
    "# Unzip the files\n",
    "import zipfile\n",
    "path_to_zip_file = 'naipsample.zip'\n",
    "directory_to_extract_to = 'naipsample'\n",
    "with zipfile.ZipFile(path_to_zip_file, 'r') as zip_ref:\n",
    "    zip_ref.extractall(directory_to_extract_to)"
   ]
  },
  {
   "cell_type": "code",
   "execution_count": 145,
   "metadata": {},
   "outputs": [],
   "source": [
    "# Combine the files:\n",
    "import rasterio\n",
    "\n",
    "def stack_bands(name, outname):\n",
    "    # file_list = [name + '.R.tif', name + '.G.tif', name + '.B.tif']\n",
    "    file_list = [name + '.B4.tif', name + '.B3.tif', name + '.B2.tif']\n",
    "    # Read metadata of first file\n",
    "    with rasterio.open(file_list[0]) as src0:\n",
    "        meta = src0.meta\n",
    "\n",
    "    # Update meta to reflect the number of layers\n",
    "    meta.update(count = len(file_list))\n",
    "\n",
    "    # Read each layer and write it to stack\n",
    "    with rasterio.open(outname, 'w', **meta) as dst:\n",
    "        for id, layer in enumerate(file_list, start=1):\n",
    "            with rasterio.open(layer) as src1:\n",
    "                dst.write_band(id, src1.read(1))\n",
    "\n",
    "outname = \"stacked.tif\"\n",
    "stack_bands('S2sample/download',outname)"
   ]
  },
  {
   "cell_type": "code",
   "execution_count": 144,
   "metadata": {},
   "outputs": [
    {
     "ename": "UnidentifiedImageError",
     "evalue": "cannot identify image file 'stacked.tif'",
     "output_type": "error",
     "traceback": [
      "\u001b[0;31m---------------------------------------------------------------------------\u001b[0m",
      "\u001b[0;31mUnidentifiedImageError\u001b[0m                    Traceback (most recent call last)",
      "\u001b[0;32m<ipython-input-144-e2ed0970d6be>\u001b[0m in \u001b[0;36m<module>\u001b[0;34m()\u001b[0m\n\u001b[1;32m      1\u001b[0m \u001b[0;31m# save images\u001b[0m\u001b[0;34m\u001b[0m\u001b[0;34m\u001b[0m\u001b[0;34m\u001b[0m\u001b[0m\n\u001b[1;32m      2\u001b[0m \u001b[0;32mfrom\u001b[0m \u001b[0mPIL\u001b[0m \u001b[0;32mimport\u001b[0m \u001b[0mImage\u001b[0m\u001b[0;34m\u001b[0m\u001b[0;34m\u001b[0m\u001b[0m\n\u001b[0;32m----> 3\u001b[0;31m \u001b[0mim\u001b[0m \u001b[0;34m=\u001b[0m \u001b[0mImage\u001b[0m\u001b[0;34m.\u001b[0m\u001b[0mopen\u001b[0m\u001b[0;34m(\u001b[0m\u001b[0moutname\u001b[0m\u001b[0;34m)\u001b[0m\u001b[0;34m\u001b[0m\u001b[0;34m\u001b[0m\u001b[0m\n\u001b[0m\u001b[1;32m      4\u001b[0m \u001b[0mim\u001b[0m\u001b[0;34m.\u001b[0m\u001b[0msave\u001b[0m\u001b[0;34m(\u001b[0m\u001b[0moutname\u001b[0m \u001b[0;34m+\u001b[0m \u001b[0;34m'.jpg'\u001b[0m\u001b[0;34m,\u001b[0m \u001b[0;34m'JPEG'\u001b[0m\u001b[0;34m)\u001b[0m\u001b[0;34m\u001b[0m\u001b[0;34m\u001b[0m\u001b[0m\n",
      "\u001b[0;32m/Users/flora/Library/Python/3.7/lib/python/site-packages/PIL/Image.py\u001b[0m in \u001b[0;36mopen\u001b[0;34m(fp, mode, formats)\u001b[0m\n\u001b[1;32m   3022\u001b[0m         \u001b[0mwarnings\u001b[0m\u001b[0;34m.\u001b[0m\u001b[0mwarn\u001b[0m\u001b[0;34m(\u001b[0m\u001b[0mmessage\u001b[0m\u001b[0;34m)\u001b[0m\u001b[0;34m\u001b[0m\u001b[0;34m\u001b[0m\u001b[0m\n\u001b[1;32m   3023\u001b[0m     raise UnidentifiedImageError(\n\u001b[0;32m-> 3024\u001b[0;31m         \u001b[0;34m\"cannot identify image file %r\"\u001b[0m \u001b[0;34m%\u001b[0m \u001b[0;34m(\u001b[0m\u001b[0mfilename\u001b[0m \u001b[0;32mif\u001b[0m \u001b[0mfilename\u001b[0m \u001b[0;32melse\u001b[0m \u001b[0mfp\u001b[0m\u001b[0;34m)\u001b[0m\u001b[0;34m\u001b[0m\u001b[0;34m\u001b[0m\u001b[0m\n\u001b[0m\u001b[1;32m   3025\u001b[0m     )\n\u001b[1;32m   3026\u001b[0m \u001b[0;34m\u001b[0m\u001b[0m\n",
      "\u001b[0;31mUnidentifiedImageError\u001b[0m: cannot identify image file 'stacked.tif'"
     ]
    }
   ],
   "source": [
    "# save images\n",
    "from PIL import Image\n",
    "im = Image.open(outname)\n",
    "im.save(outname + '.jpg', 'JPEG')"
   ]
  },
  {
   "cell_type": "code",
   "execution_count": 146,
   "metadata": {},
   "outputs": [
    {
     "name": "stderr",
     "output_type": "stream",
     "text": [
      "Clipping input data to the valid range for imshow with RGB data ([0..1] for floats or [0..255] for integers).\n"
     ]
    },
    {
     "data": {
      "text/plain": [
       "<matplotlib.axes._subplots.AxesSubplot at 0x7fe23944e898>"
      ]
     },
     "execution_count": 146,
     "metadata": {},
     "output_type": "execute_result"
    },
    {
     "data": {
      "image/png": "[encoded data removed]",
      "text/plain": [
       "<Figure size 432x432 with 1 Axes>"
      ]
     },
     "metadata": {
      "image/png": {
       "height": 345,
       "width": 385
      },
      "needs_background": "light"
     },
     "output_type": "display_data"
    }
   ],
   "source": [
    "# Plot the example\n",
    "%matplotlib inline\n",
    "%config InlineBackend.figure_format = 'retina'\n",
    "import matplotlib.pyplot as plt\n",
    "from rasterio.plot import show\n",
    "\n",
    "fig, ax = plt.subplots(num='main', figsize=(6,6))\n",
    "\n",
    "from rasterio.plot import show\n",
    "data = rasterio.open(outname)\n",
    "show(data.read([1,2,3]).astype('float')/255, transform=data.transform, ax=ax)\n",
    "# show(data.read([1,2,3]), transform=data.transform, ax=ax)"
   ]
  },
  {
   "cell_type": "code",
   "execution_count": 148,
   "metadata": {},
   "outputs": [
    {
     "data": {
      "image/png": "[encoded data removed]",
      "text/plain": [
       "<Figure size 432x288 with 1 Axes>"
      ]
     },
     "metadata": {
      "image/png": {
       "height": 271,
       "width": 300
      },
      "needs_background": "light"
     },
     "output_type": "display_data"
    },
    {
     "data": {
      "text/plain": [
       "<matplotlib.axes._subplots.AxesSubplot at 0x7fe2394bdcf8>"
      ]
     },
     "execution_count": 148,
     "metadata": {},
     "output_type": "execute_result"
    }
   ],
   "source": [
    "show(data)"
   ]
  },
  {
   "cell_type": "code",
   "execution_count": null,
   "metadata": {},
   "outputs": [],
   "source": []
  }
 ],
 "metadata": {
  "interpreter": {
   "hash": "9cc1658958d109e4d0e85844406ea2e7d6468316002f2d5e050fa2244cc4c3ff"
  },
  "kernelspec": {
   "display_name": "Python 3",
   "language": "python",
   "name": "python3"
  },
  "language_info": {
   "codemirror_mode": {
    "name": "ipython",
    "version": 3
   },
   "file_extension": ".py",
   "mimetype": "text/x-python",
   "name": "python",
   "nbconvert_exporter": "python",
   "pygments_lexer": "ipython3",
   "version": "3.7.2"
  }
 },
 "nbformat": 4,
 "nbformat_minor": 2
}
