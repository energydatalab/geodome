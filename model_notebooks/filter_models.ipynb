{
 "cells": [
  {
   "cell_type": "code",
   "execution_count": 1,
   "id": "wound-kenya",
   "metadata": {},
   "outputs": [],
   "source": [
    "%reload_ext autoreload\n",
    "%autoreload 2\n",
    "%matplotlib inline\n",
    "# Built-in\n",
    "import os\n",
    "import re\n",
    "\n",
    "# Libs\n",
    "import numpy as np\n",
    "from tqdm import tqdm\n",
    "import sys\n",
    "from natsort import natsorted"
   ]
  },
  {
   "cell_type": "code",
   "execution_count": 2,
   "id": "compact-mother",
   "metadata": {},
   "outputs": [],
   "source": [
    "# insert at 1, 0 is the script path (or '' in REPL)\n",
    "sys.path.insert(1, '/home/ss1072/geodome/mrs/')"
   ]
  },
  {
   "cell_type": "code",
   "execution_count": 3,
   "id": "digital-presence",
   "metadata": {},
   "outputs": [],
   "source": [
    "from data import data_loader, data_utils\n",
    "from mrs_utils import misc_utils, process_block"
   ]
  },
  {
   "cell_type": "code",
   "execution_count": 56,
   "id": "particular-green",
   "metadata": {},
   "outputs": [],
   "source": [
    "# Own modules\n",
    "sys.path.insert(0, '../')\n",
    "from model_scripts.filter_tools import (get_features, filter_data)"
   ]
  },
  {
   "cell_type": "code",
   "execution_count": 72,
   "id": "successful-courage",
   "metadata": {},
   "outputs": [
    {
     "name": "stderr",
     "output_type": "stream",
     "text": [
      "150it [00:00, 150.29it/s]\n",
      "150it [00:00, 150.81it/s]\n"
     ]
    }
   ],
   "source": [
    "data_dir = \"/home/ss1072/data_210402/patches/\"\n",
    "file_list_path = \"/home/ss1072/filter_lists/train_0.txt\"\n",
    "#exclude_list_path = \"/home/ss1072/data_210402/file_list_valid.txt\"\n",
    "save_dir = '/home/ss1072/filter_lists/'\n",
    "\n",
    "filter_data(data_dir, file_list_path, save_dir, '2classes_0', valid_geo=None,\n",
    "            min_n_classes=2, min_class_mean=0.07, min_class_std=0, classifier=None, \n",
    "            exclude_list_path=None)\n",
    "\n",
    "filter_data(data_dir, file_list_path, save_dir, '3classes_0', valid_geo=None,\n",
    "            min_n_classes=3, min_class_mean=0.07, min_class_std=0, classifier=None, \n",
    "            exclude_list_path=None)"
   ]
  },
  {
   "cell_type": "code",
   "execution_count": 73,
   "id": "rapid-water",
   "metadata": {},
   "outputs": [
    {
     "name": "stderr",
     "output_type": "stream",
     "text": [
      "100it [00:00, 141.94it/s]\n",
      "100it [00:00, 141.58it/s]\n"
     ]
    }
   ],
   "source": [
    "data_dir = \"/home/ss1072/data_210402/patches/\"\n",
    "file_list_path = \"/home/ss1072/filter_lists/train_1.txt\"\n",
    "#exclude_list_path = \"/home/ss1072/data_210402/file_list_valid.txt\"\n",
    "save_dir = '/home/ss1072/filter_lists/'\n",
    "\n",
    "filter_data(data_dir, file_list_path, save_dir, '2classes_1', valid_geo=None,\n",
    "            min_n_classes=2, min_class_mean=0.07, min_class_std=0, classifier=None, \n",
    "            exclude_list_path=None)\n",
    "\n",
    "filter_data(data_dir, file_list_path, save_dir, '3classes_1', valid_geo=None,\n",
    "            min_n_classes=3, min_class_mean=0.07, min_class_std=0, classifier=None, \n",
    "            exclude_list_path=None)"
   ]
  },
  {
   "cell_type": "code",
   "execution_count": 74,
   "id": "preliminary-eagle",
   "metadata": {},
   "outputs": [
    {
     "name": "stderr",
     "output_type": "stream",
     "text": [
      "90it [00:00, 150.64it/s]\n",
      "90it [00:00, 150.36it/s]\n"
     ]
    }
   ],
   "source": [
    "data_dir = \"/home/ss1072/data_210402/patches/\"\n",
    "file_list_path = \"/home/ss1072/filter_lists/valid_0.txt\"\n",
    "#exclude_list_path = \"/home/ss1072/data_210402/file_list_valid.txt\"\n",
    "save_dir = '/home/ss1072/filter_lists/'\n",
    "\n",
    "filter_data(data_dir, file_list_path, save_dir, '2classes_0_v', valid_geo=None,\n",
    "            min_n_classes=2, min_class_mean=0.07, min_class_std=0, classifier=None, \n",
    "            exclude_list_path=None)\n",
    "\n",
    "filter_data(data_dir, file_list_path, save_dir, '3classes_0_v', valid_geo=None,\n",
    "            min_n_classes=3, min_class_mean=0.07, min_class_std=0, classifier=None, \n",
    "            exclude_list_path=None)"
   ]
  },
  {
   "cell_type": "code",
   "execution_count": 75,
   "id": "continuing-henry",
   "metadata": {},
   "outputs": [
    {
     "name": "stderr",
     "output_type": "stream",
     "text": [
      "60it [00:00, 142.56it/s]\n",
      "60it [00:00, 142.25it/s]\n"
     ]
    }
   ],
   "source": [
    "data_dir = \"/home/ss1072/data_210402/patches/\"\n",
    "file_list_path = \"/home/ss1072/filter_lists/valid_1.txt\"\n",
    "#exclude_list_path = \"/home/ss1072/data_210402/file_list_valid.txt\"\n",
    "save_dir = '/home/ss1072/filter_lists/'\n",
    "\n",
    "filter_data(data_dir, file_list_path, save_dir, '2classes_1_v', valid_geo=None,\n",
    "            min_n_classes=2, min_class_mean=0.07, min_class_std=0, classifier=None, \n",
    "            exclude_list_path=None)\n",
    "\n",
    "filter_data(data_dir, file_list_path, save_dir, '3classes_1_v', valid_geo=None,\n",
    "            min_n_classes=3, min_class_mean=0.07, min_class_std=0, classifier=None, \n",
    "            exclude_list_path=None)"
   ]
  },
  {
   "cell_type": "code",
   "execution_count": 76,
   "id": "utility-stocks",
   "metadata": {},
   "outputs": [
    {
     "name": "stderr",
     "output_type": "stream",
     "text": [
      "150it [00:02, 51.14it/s]\n",
      "100it [00:01, 50.67it/s]\n"
     ]
    }
   ],
   "source": [
    "file_list_paths = ['/home/ss1072/filter_lists/train_0.txt', \n",
    "                   '/home/ss1072/filter_lists/train_1.txt']\n",
    "data_dir = \"/home/ss1072/data_210402/patches/\"\n",
    "X_train, y_train, _ = get_features(file_list_paths, data_dir, feature_extractor=None)"
   ]
  },
  {
   "cell_type": "code",
   "execution_count": 63,
   "id": "wrapped-dutch",
   "metadata": {},
   "outputs": [
    {
     "name": "stderr",
     "output_type": "stream",
     "text": [
      "90it [00:01, 51.46it/s]\n",
      "60it [00:01, 50.89it/s]\n"
     ]
    }
   ],
   "source": [
    "file_list_paths = ['/home/ss1072/filter_lists/valid_0.txt', \n",
    "                   '/home/ss1072/filter_lists/valid_1.txt']\n",
    "data_dir = \"/home/ss1072/data_210402/patches/\"\n",
    "X_valid, y_valid, _ = get_features(file_list_paths, data_dir, feature_extractor=None)"
   ]
  },
  {
   "cell_type": "code",
   "execution_count": 66,
   "id": "behind-sandwich",
   "metadata": {},
   "outputs": [
    {
     "data": {
      "text/plain": [
       "(0.884, 0.56)"
      ]
     },
     "execution_count": 66,
     "metadata": {},
     "output_type": "execute_result"
    }
   ],
   "source": [
    "from sklearn.neighbors import KNeighborsClassifier\n",
    "knn = KNeighborsClassifier(n_neighbors=3)\n",
    "knn.fit(X_train, y_train)\n",
    "1 - np.sum(np.logical_not(np.equal(knn.predict(X_train), y_train))) / y_train.shape[0], \\\n",
    "1 - np.sum(np.logical_not(np.equal(knn.predict(X_valid), y_valid))) / y_valid.shape[0]"
   ]
  },
  {
   "cell_type": "code",
   "execution_count": 67,
   "id": "analyzed-passport",
   "metadata": {},
   "outputs": [
    {
     "data": {
      "text/plain": [
       "(0.8160000000000001, 0.6599999999999999)"
      ]
     },
     "execution_count": 67,
     "metadata": {},
     "output_type": "execute_result"
    }
   ],
   "source": [
    "from sklearn.linear_model import LogisticRegression\n",
    "lr = LogisticRegression(random_state=0, solver='liblinear')\n",
    "lr.fit(X_train, y_train)\n",
    "1 - np.sum(np.logical_not(np.equal(lr.predict(X_train), y_train))) / y_train.shape[0], \\\n",
    "1 - np.sum(np.logical_not(np.equal(lr.predict(X_valid), y_valid))) / y_valid.shape[0]"
   ]
  },
  {
   "cell_type": "code",
   "execution_count": null,
   "id": "turkish-relationship",
   "metadata": {},
   "outputs": [],
   "source": [
    "filter_data(data_dir, file_list_path, save_dir, 'knn_list', valid_geo=None,\n",
    "            min_n_classes=0, min_class_mean=0, min_class_std=0, classifier=knn, \n",
    "            exclude_list_path=exclude_list_path)"
   ]
  },
  {
   "cell_type": "code",
   "execution_count": null,
   "id": "incorporated-import",
   "metadata": {},
   "outputs": [],
   "source": [
    "filter_data(data_dir, file_list_path, save_dir, 'lr_list', valid_geo=None,\n",
    "            min_n_classes=0, min_class_mean=0, min_class_std=0, classifier=lr, \n",
    "            exclude_list_path=exclude_list_path)"
   ]
  }
 ],
 "metadata": {
  "kernelspec": {
   "display_name": "Python 3",
   "language": "python",
   "name": "python3"
  },
  "language_info": {
   "codemirror_mode": {
    "name": "ipython",
    "version": 3
   },
   "file_extension": ".py",
   "mimetype": "text/x-python",
   "name": "python",
   "nbconvert_exporter": "python",
   "pygments_lexer": "ipython3",
   "version": "3.7.7"
  }
 },
 "nbformat": 4,
 "nbformat_minor": 5
}
